{
 "cells": [
  {
   "cell_type": "code",
   "execution_count": 2,
   "metadata": {
    "collapsed": true
   },
   "outputs": [],
   "source": [
    "import numpy as np"
   ]
  },
  {
   "cell_type": "markdown",
   "metadata": {},
   "source": [
    "# RECORDING THE ALIGNMENT MATRIX"
   ]
  },
  {
   "cell_type": "code",
   "execution_count": 3,
   "metadata": {
    "collapsed": true
   },
   "outputs": [],
   "source": [
    "def editDistDP(str1, str2, m, n):\n",
    "    \n",
    "    \n",
    "    for i in range(m+1):\n",
    "        for j in range(n+1):\n",
    "       \n",
    "            if (i==0 and j==0):\n",
    "                al[i][j]=\"N\"\n",
    "   \n",
    "            elif (i == 0):\n",
    "                dp[i][j] = j\n",
    "                al[i][j] = \"I\"\n",
    "           \n",
    "            elif (j == 0):\n",
    "                dp[i][j] = i    \n",
    "                al[i][j] = \"D\"\n",
    "                \n",
    "            elif (str1[i-1]==str2[j-1]):\n",
    "                \n",
    "                \n",
    "                inse=dp[i][j-1]+1\n",
    "                dele=dp[i-1][j]+1\n",
    "                subs=dp[i-1][j-1]\n",
    "                \n",
    "                key_values={'insert':inse,'delete':dele,'subs':subs}\n",
    "                \n",
    "                dp[i][j]=min(inse,dele,subs)\n",
    "                ops=''\n",
    "                ops=next(key for key, value in key_values.iteritems() if value == dp[i][j])\n",
    "                \n",
    "                if(ops=='insert'):\n",
    "                    al[i][j]='I'\n",
    "                elif(ops=='delete'):\n",
    "                    al[i][j]='D'\n",
    "                else:\n",
    "                    al[i][j]='S'\n",
    "                 \n",
    "            else:\n",
    "                inse=dp[i][j-1]+1\n",
    "                dele=dp[i-1][j]+1\n",
    "                subs=dp[i-1][j-1]+1\n",
    "                \n",
    "                key_values={'insert':inse,'delete':dele,'subs':subs}\n",
    "                \n",
    "                dp[i][j]=min(inse,dele,subs)    \n",
    "                ops=''\n",
    "                ops=next(key for key, value in key_values.iteritems() if value == dp[i][j])\n",
    "                \n",
    "                if(ops=='insert'):\n",
    "                    al[i][j]='I'\n",
    "                elif(ops=='delete'):\n",
    "                    al[i][j]='D'\n",
    "                else:\n",
    "                    al[i][j]='S'\n",
    " \n",
    "    return dp[i][j]"
   ]
  },
  {
   "cell_type": "markdown",
   "metadata": {},
   "source": [
    "# FUNCTION FOR PRINTING THE ALIGNMENT"
   ]
  },
  {
   "cell_type": "code",
   "execution_count": 7,
   "metadata": {},
   "outputs": [],
   "source": [
    "def printAL(mat,str1,str2,m,n):\n",
    "    \n",
    "    if(m==0 and n==0):\n",
    "        return\n",
    "    \n",
    "    elif(m==0):\n",
    "        printAL(mat,str1,str2,m,n-1)\n",
    "        print( \"+\" + \" ---> \" + str2[n-1])\n",
    "        \n",
    "    elif(n==0):\n",
    "        printAL(mat,str1,str2,m-1,n)\n",
    "        print (str1[m-1]+\" <--- \"+ \"_\")\n",
    "\n",
    "    elif (mat[m][n]==\"S\"):\n",
    "        \n",
    "        printAL(mat,str1,str2,m-1,n-1)\n",
    "        print (str1[m-1] +\" <--> \"+str2[n-1])\n",
    "        \n",
    "    elif(mat[m][n]==\"I\"):\n",
    "        \n",
    "        printAL(mat,str1,str2,m,n-1)\n",
    "        print (\"+\" +\" ---> \"+ str2[n-1])\n",
    "        \n",
    "    else:\n",
    "        \n",
    "        printAL(mat,str1,str2,m-1,n)\n",
    "        print (str1[m-1]+\" <--- \"+ \"_\")"
   ]
  },
  {
   "cell_type": "code",
   "execution_count": null,
   "metadata": {},
   "outputs": [],
   "source": []
  },
  {
   "cell_type": "code",
   "execution_count": 6,
   "metadata": {},
   "outputs": [
    {
     "ename": "SyntaxError",
     "evalue": "invalid syntax (<ipython-input-6-6628f407d62d>, line 4)",
     "output_type": "error",
     "traceback": [
      "\u001b[1;36m  File \u001b[1;32m\"<ipython-input-6-6628f407d62d>\"\u001b[1;36m, line \u001b[1;32m4\u001b[0m\n\u001b[1;33m    print len(str1),len(str2)\u001b[0m\n\u001b[1;37m            ^\u001b[0m\n\u001b[1;31mSyntaxError\u001b[0m\u001b[1;31m:\u001b[0m invalid syntax\n"
     ]
    }
   ],
   "source": [
    "str1=\"accommodation\"\n",
    "str2=\"anthromoporphization\"\n",
    "\n",
    "print len(str1),len(str2)\n",
    "\n",
    "dp = [[0 for x in range(len(str2)+1)] for x in range(len(str1)+1)]\n",
    "al=  [[0 for x in range(len(str2)+1)] for x in range(len(str1)+1)]\n",
    "from datetime import datetime\n",
    "start_time = datetime.now()\n",
    "print(\"EDIT DISTANCE : \"+ str(editDistDP(str1, str2, len(str1), len(str2))))\n",
    "end_time = datetime.now()\n",
    "print \"Time taken for execution\",end_time - start_time, \"seconds\""
   ]
  },
  {
   "cell_type": "code",
   "execution_count": null,
   "metadata": {
    "scrolled": true
   },
   "outputs": [],
   "source": []
  },
  {
   "cell_type": "code",
   "execution_count": 79,
   "metadata": {},
   "outputs": [
    {
     "name": "stdout",
     "output_type": "stream",
     "text": [
      "[[0 1 2 3 4 5]\n",
      " [1 1 2 3 4 5]\n",
      " [2 2 2 3 4 5]\n",
      " [3 3 3 3 4 5]\n",
      " [4 4 4 4 4 5]\n",
      " [5 5 5 5 4 5]]\n"
     ]
    }
   ],
   "source": [
    "print np.matrix(dp)"
   ]
  },
  {
   "cell_type": "code",
   "execution_count": 80,
   "metadata": {
    "scrolled": true
   },
   "outputs": [
    {
     "name": "stdout",
     "output_type": "stream",
     "text": [
      "m <--- _\n",
      "a <--> r\n",
      "n <--> o\n",
      "v <--> h\n",
      "i <--> i\n",
      "+ ---> t\n",
      "None\n"
     ]
    }
   ],
   "source": [
    "m=len(str1)\n",
    "n=len(str2)\n",
    "print (printAL(al,str1,str2,m,n))"
   ]
  },
  {
   "cell_type": "code",
   "execution_count": 57,
   "metadata": {},
   "outputs": [],
   "source": [
    "d = {'g':a, 'b':b, 't':c}"
   ]
  },
  {
   "cell_type": "code",
   "execution_count": null,
   "metadata": {},
   "outputs": [],
   "source": [
    "minimum=min(d.values())\n",
    "value_found= next(key for key, value in d.iteritems() if value == minimum)"
   ]
  },
  {
   "cell_type": "code",
   "execution_count": 58,
   "metadata": {},
   "outputs": [
    {
     "data": {
      "text/plain": [
       "{'b': 5, 'g': 9, 't': 5}"
      ]
     },
     "execution_count": 58,
     "metadata": {},
     "output_type": "execute_result"
    }
   ],
   "source": [
    "d"
   ]
  },
  {
   "cell_type": "code",
   "execution_count": null,
   "metadata": {
    "collapsed": true
   },
   "outputs": [],
   "source": []
  }
 ],
 "metadata": {
  "anaconda-cloud": {},
  "kernelspec": {
   "display_name": "Python 3",
   "language": "python",
   "name": "python3"
  },
  "language_info": {
   "codemirror_mode": {
    "name": "ipython",
    "version": 3
   },
   "file_extension": ".py",
   "mimetype": "text/x-python",
   "name": "python",
   "nbconvert_exporter": "python",
   "pygments_lexer": "ipython3",
   "version": "3.6.3"
  }
 },
 "nbformat": 4,
 "nbformat_minor": 1
}
