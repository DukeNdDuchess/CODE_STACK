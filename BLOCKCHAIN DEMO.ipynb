{
 "cells": [
  {
   "cell_type": "markdown",
   "metadata": {},
   "source": [
    "# BLOCKCHAIN DEMO"
   ]
  },
  {
   "cell_type": "markdown",
   "metadata": {},
   "source": [
    "## Class Block to create objects for all the class"
   ]
  },
  {
   "cell_type": "code",
   "execution_count": 1,
   "metadata": {
    "collapsed": true
   },
   "outputs": [],
   "source": [
    "import hashlib\n",
    "\n",
    "class Block():\n",
    "    \n",
    "    Hash = hashlib.sha1()\n",
    "    \n",
    "    def __init__(self,previousHash,transactions):\n",
    "        self.previousHash = previousHash\n",
    "        self.transactions = transactions\n",
    "    \n",
    "    def getBlockHash(self):\n",
    "        self.Hash.update(str.encode(self.transactions) + str.encode(self.previousHash))\n",
    "        return self.Hash.hexdigest()\n",
    "    \n",
    "    def mine(self,nounce):\n",
    "        self.Hash.update(str.encode(nounce))\n",
    "        print(self.getBlockHash())\n",
    "    #def transactions(self):\n",
    "        #print(Block.transactions)\n",
    "    \n",
    "    #def previoushash(self):\n",
    "        #print(Block.previousHash)"
   ]
  },
  {
   "cell_type": "code",
   "execution_count": 2,
   "metadata": {
    "collapsed": true
   },
   "outputs": [],
   "source": [
    "GenesysBlock = Block(previousHash=\"0\",transactions = \"rohit gives manvi 2000 coins\")"
   ]
  },
  {
   "cell_type": "code",
   "execution_count": 3,
   "metadata": {
    "collapsed": true
   },
   "outputs": [],
   "source": [
    "Block_1 = Block(GenesysBlock.getBlockHash(),transactions = \"manvi gives rohit 50 coins\")\n",
    "Block_2 = Block(Block_1.getBlockHash(),transactions = \"shivam gives manvi 10 coins\")\n",
    "Block_3 = Block(Block_2.getBlockHash(),transactions = \"vaibhav gives shivam 50 coins\")\n",
    "Block_4 = Block(Block_3.getBlockHash(),transactions = \"rohin gives rohit 20 coins\")\n",
    "Block_5 = Block(Block_4.getBlockHash(),transactions = \"raunak gives manvi 90 coins\")"
   ]
  },
  {
   "cell_type": "code",
   "execution_count": 4,
   "metadata": {
    "collapsed": false
   },
   "outputs": [
    {
     "data": {
      "text/plain": [
       "'3af2c1bbe3671906977e974d0e3598230d54e5ca'"
      ]
     },
     "execution_count": 4,
     "metadata": {},
     "output_type": "execute_result"
    }
   ],
   "source": [
    "GenesysBlock.getBlockHash()"
   ]
  },
  {
   "cell_type": "code",
   "execution_count": 5,
   "metadata": {
    "collapsed": false
   },
   "outputs": [
    {
     "data": {
      "text/plain": [
       "'79b596a98dfeefed28b735fd56f2d0a06a942f42'"
      ]
     },
     "execution_count": 5,
     "metadata": {},
     "output_type": "execute_result"
    }
   ],
   "source": [
    "Block_1.getBlockHash()"
   ]
  },
  {
   "cell_type": "code",
   "execution_count": 6,
   "metadata": {
    "collapsed": false
   },
   "outputs": [
    {
     "data": {
      "text/plain": [
       "'a2cf388b2f1427904b261c9c1430f19ac0029568'"
      ]
     },
     "execution_count": 6,
     "metadata": {},
     "output_type": "execute_result"
    }
   ],
   "source": [
    "Block_2.getBlockHash()"
   ]
  },
  {
   "cell_type": "code",
   "execution_count": 7,
   "metadata": {
    "collapsed": false
   },
   "outputs": [
    {
     "data": {
      "text/plain": [
       "'d3ac5b28ce5eacd5fdacd370c98f21fffd557b69'"
      ]
     },
     "execution_count": 7,
     "metadata": {},
     "output_type": "execute_result"
    }
   ],
   "source": [
    "Block_3.getBlockHash()"
   ]
  },
  {
   "cell_type": "code",
   "execution_count": 12,
   "metadata": {
    "collapsed": false
   },
   "outputs": [
    {
     "data": {
      "text/plain": [
       "'8214228f385264df2ecf9ab1b7deafb01e9b68be'"
      ]
     },
     "execution_count": 12,
     "metadata": {},
     "output_type": "execute_result"
    }
   ],
   "source": [
    "Block_4.getBlockHash()"
   ]
  },
  {
   "cell_type": "code",
   "execution_count": 11,
   "metadata": {
    "collapsed": false
   },
   "outputs": [
    {
     "name": "stdout",
     "output_type": "stream",
     "text": [
      "e1a6e12990633a5ebfe9975b285b3201f043bfd5\n"
     ]
    }
   ],
   "source": [
    "Block_4.mine('56543')"
   ]
  },
  {
   "cell_type": "code",
   "execution_count": null,
   "metadata": {
    "collapsed": true
   },
   "outputs": [],
   "source": []
  },
  {
   "cell_type": "code",
   "execution_count": null,
   "metadata": {
    "collapsed": true
   },
   "outputs": [],
   "source": []
  }
 ],
 "metadata": {
  "kernelspec": {
   "display_name": "Python 3",
   "language": "python",
   "name": "python3"
  },
  "language_info": {
   "codemirror_mode": {
    "name": "ipython",
    "version": 3
   },
   "file_extension": ".py",
   "mimetype": "text/x-python",
   "name": "python",
   "nbconvert_exporter": "python",
   "pygments_lexer": "ipython3",
   "version": "3.6.4"
  }
 },
 "nbformat": 4,
 "nbformat_minor": 2
}
