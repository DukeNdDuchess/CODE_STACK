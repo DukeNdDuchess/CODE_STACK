{
 "cells": [
  {
   "cell_type": "code",
   "execution_count": 180,
   "metadata": {
    "collapsed": true
   },
   "outputs": [],
   "source": [
    "import numpy as np\n",
    "import collections"
   ]
  },
  {
   "cell_type": "code",
   "execution_count": 192,
   "metadata": {
    "collapsed": false
   },
   "outputs": [],
   "source": [
    "count=0\n",
    "ops=''\n",
    "def ED(x,y,m,n):\n",
    "\n",
    "    global count\n",
    "    count =count+1\n",
    "    \n",
    "    if m==0 and n==0:\n",
    "        if al[m][n]==0:\n",
    "            al[m][n]='N'\n",
    "        return 0\n",
    "    \n",
    "    elif m==0:\n",
    "        if al[m][n]==0:\n",
    "            al[m][n]='I'\n",
    "        return n\n",
    "    \n",
    "    elif n==0:\n",
    "        if al[m][n]==0:\n",
    "            al[m][n]='D'\n",
    "        return m\n",
    "    \n",
    "    elif x[m-1]==y[n-1]:\n",
    "        \n",
    "        substitution = ED(x,y,m-1,n-1)\n",
    "        deletion  = ED(x,y,m-1,n)+1\n",
    "        insertion = (ED(x,y,m,n-1)+1)\n",
    "        key_values={'insert':insertion,'delete':deletion,'subs':substitution}\n",
    "        \n",
    "        minimum = min((substitution),(deletion),(insertion))\n",
    "        \n",
    "        ops=''\n",
    "        \n",
    "        try:\n",
    "            ops=next(key for key, value in key_values.iteritems() if value == minimum)\n",
    "        except:\n",
    "            None\n",
    "        \n",
    "        if al[m][n]!=0:\n",
    "            None\n",
    "        else:\n",
    "            if (ops =='insert'):         \n",
    "                al[m][n]='I'\n",
    "            elif (ops == 'delete'):\n",
    "                al[m][n]='D'\n",
    "            else:\n",
    "                al[m][n]='S'\n",
    "    else:\n",
    "        substitution = ED(x,y,m-1,n-1)+1\n",
    "        deletion  =  ED(x,y,m-1,n)+1\n",
    "        insertion = ED(x,y,m,n-1)+1\n",
    "        \n",
    "        key_values={'insert':insertion,'delete':deletion,'subs':substitution}\n",
    "        minimum = min((substitution),(deletion),(insertion))\n",
    "        \n",
    "        ops=''\n",
    "        \n",
    "        try:\n",
    "            ops=next(key for key, value in key_values.iteritems() if value == minimum)\n",
    "        except:\n",
    "            None\n",
    "            \n",
    "        if al[m][n]!=0:\n",
    "            None\n",
    "        else:\n",
    "            if (ops =='insert'):         \n",
    "                al[m][n]='I'\n",
    "            elif (ops == 'delete'):\n",
    "                al[m][n]='D'\n",
    "            else:\n",
    "                al[m][n]='S'\n",
    "        \n",
    "    return minimum"
   ]
  },
  {
   "cell_type": "code",
   "execution_count": 197,
   "metadata": {
    "collapsed": false
   },
   "outputs": [
    {
     "data": {
      "text/plain": [
       "2"
      ]
     },
     "execution_count": 197,
     "metadata": {},
     "output_type": "execute_result"
    }
   ],
   "source": [
    "#al=[[0 for row in range(len(b)+1)] for col in range(len(a)+1)]\n"
   ]
  },
  {
   "cell_type": "code",
   "execution_count": 199,
   "metadata": {
    "collapsed": false
   },
   "outputs": [],
   "source": [
    "def printAL(mat,str1,str2,m,n):\n",
    "    \n",
    "    if(m==0 and n==0):\n",
    "        return\n",
    "    \n",
    "    elif(m==0):\n",
    "        printAL(mat,str1,str2,m,n-1)\n",
    "        print \"+\"+\" ---> \" + str2[n-1]\n",
    "        \n",
    "    elif(n==0):\n",
    "        printAL(mat,str1,str2,m-1,n)\n",
    "        print str1[m-1]+\" <--- \"+ \"_\"\n",
    "\n",
    "    elif (mat[m][n]==\"S\"):\n",
    "        \n",
    "        printAL(mat,str1,str2,m-1,n-1)\n",
    "        print str1[m-1] +\" <--> \"+str2[n-1]\n",
    "        \n",
    "    elif(mat[m][n]==\"I\"):\n",
    "        \n",
    "        printAL(mat,str1,str2,m,n-1)\n",
    "        print \"+\" +\" ---> \"+ str2[n-1]\n",
    "        \n",
    "    else:\n",
    "        \n",
    "        printAL(mat,str1,str2,m-1,n)\n",
    "        print str1[m-1]+\" <--- \"+ \"_\""
   ]
  },
  {
   "cell_type": "code",
   "execution_count": 204,
   "metadata": {
    "collapsed": false
   },
   "outputs": [
    {
     "name": "stdout",
     "output_type": "stream",
     "text": [
      "The Edit Distance is :  5\n",
      "ALIGNMENT\n",
      "m <--- _\n",
      "a <--> r\n",
      "n <--> o\n",
      "v <--> h\n",
      "i <--> i\n",
      "+ ---> t\n",
      "None\n"
     ]
    }
   ],
   "source": [
    "str1=\"manvi\"\n",
    "str2=\"rohit\"\n",
    "al=[[0 for row in range(len(str2)+1)] for col in range(len(str1)+1)]\n",
    "print \"The Edit Distance is : \", ED(str1,str2,len(str1),len(str2))\n",
    "print \"ALIGNMENT\\n\" ,printAL(al,str1,str2,len(str1),len(str2))"
   ]
  },
  {
   "cell_type": "code",
   "execution_count": null,
   "metadata": {
    "collapsed": true
   },
   "outputs": [],
   "source": []
  },
  {
   "cell_type": "code",
   "execution_count": null,
   "metadata": {
    "collapsed": false
   },
   "outputs": [],
   "source": []
  },
  {
   "cell_type": "code",
   "execution_count": null,
   "metadata": {
    "collapsed": false
   },
   "outputs": [],
   "source": [
    "a=\"perm\"\n",
    "b=\"inpe\"\n",
    "lenx=len(a)\n",
    "leny=len(b)"
   ]
  },
  {
   "cell_type": "code",
   "execution_count": null,
   "metadata": {
    "collapsed": false,
    "scrolled": true
   },
   "outputs": [],
   "source": [
    "from datetime import datetime\n",
    "start_time = datetime.now()\n",
    "print (ED(a,b,lenx,leny))\n",
    "end_time = datetime.now()\n",
    "print \"Time taken for execution\",end_time - start_time, \"seconds\"\n",
    "print \"Number of self calls\",count"
   ]
  },
  {
   "cell_type": "code",
   "execution_count": null,
   "metadata": {
    "collapsed": true
   },
   "outputs": [],
   "source": [
    "count=0\n",
    "def ED(x,y,m,n):\n",
    "    global count\n",
    "    count =count+1\n",
    "    if m==0:\n",
    "        return n\n",
    "    if n==0:\n",
    "        return m\n",
    "    if x[m-1]==y[n-1]:\n",
    "        \n",
    "        return min((ED(x,y,m-1,n-1)), (ED(x,y,m-1,n)+1), (ED(x,y,m,n-1)+1))\n",
    "    else:\n",
    "        return min((ED(x,y,m-1,n-1)+1), (ED(x,y,m-1,n)+1), (ED(x,y,m,n-1)+1))"
   ]
  },
  {
   "cell_type": "code",
   "execution_count": null,
   "metadata": {
    "collapsed": true
   },
   "outputs": [],
   "source": [
    " ops=''\n",
    "    key_values={'insert':insertion,'delete':deletion,'subs':substitution}\n",
    "    \n",
    "    try:\n",
    "        ops=next(key for key, value in key_values.iteritems() if value == minimum)\n",
    "    except StopIteration:\n",
    "        print(\"\")\n",
    "        \n",
    "    if(ops =='insert'):\n",
    "        algn_x = algn_x + Z\n",
    "        algn_y = algn_y + C\n",
    "        algn_x = algn_x + \"+\" + x[m-1]\n",
    "        algn_y =  y[n-1]\n",
    "            \n",
    "    elif(ops=='delete'):\n",
    "        algn_x = algn_x + Y\n",
    "        algn_y = algn_y + B\n",
    "        algn_x = algn_x + \"_\" \n",
    "        algn_y = algn_y + y[n-1]\n",
    "            \n",
    "    else:\n",
    "        algn_x = algn_x + X\n",
    "        algn_y = algn_y + A\n",
    "        algn_x =  x[m-1] \n",
    "        algn_y =  y[n-1]\n",
    "        \n",
    "    return minimum, algn_x, algn_y"
   ]
  },
  {
   "cell_type": "code",
   "execution_count": null,
   "metadata": {
    "collapsed": false
   },
   "outputs": [],
   "source": [
    "def Substitution(x,y,m,n):\n",
    "    if m==0:\n",
    "        return n\n",
    "    if n==0:\n",
    "        return m\n",
    "    if x[m-1]==y[n-1]:\n",
    "        return min((Substitution(x,y,m-1,n-1)), (Substitution(x,y,m-1,n)+1), (Substitution(x,y,m,n-1)+1))\n",
    "    else:\n",
    "        return min((Substitution(x,y,m-1,n-1)+1), (Substitution(x,y,m-1,n)+1), (Substitution(x,y,m,n-1)+1))"
   ]
  },
  {
   "cell_type": "code",
   "execution_count": null,
   "metadata": {
    "collapsed": false
   },
   "outputs": [],
   "source": [
    "def b_nd_bound():"
   ]
  },
  {
   "cell_type": "code",
   "execution_count": null,
   "metadata": {
    "collapsed": false
   },
   "outputs": [],
   "source": []
  },
  {
   "cell_type": "code",
   "execution_count": 205,
   "metadata": {
    "collapsed": false
   },
   "outputs": [],
   "source": [
    "calls=0\n",
    "path=collections.deque()\n",
    "def BNB(X,Y,m,n,bound,cost,f_n,h_n):\n",
    "    global calls\n",
    "    calls=calls+1\n",
    "    h_n=abs(m-n)\n",
    "    f_n = h_n + cost\n",
    "    \n",
    "    if (f_n < bound):\n",
    "        \n",
    "        if m==0:\n",
    "            cost=cost+n\n",
    "            if(cost < bound):\n",
    "                bound=cost\n",
    "                return bound\n",
    "            else:\n",
    "                return bound\n",
    "        elif n==0:\n",
    "            cost=cost+m\n",
    "            if(cost<bound):\n",
    "                bound=cost\n",
    "                return bound\n",
    "            else:\n",
    "                return bound\n",
    "        \n",
    "        elif (X[m-1]==Y[n-1]):\n",
    "            cost=cost+0\n",
    "            value1 = BNB(X,Y,m-1,n-1,bound,cost,f_n,h_n)\n",
    "            if(value1==None):\n",
    "                None\n",
    "            else:\n",
    "                bound=value1\n",
    "            cost = cost + 1\n",
    "            if(bound<cost):\n",
    "                return bound\n",
    "            else:\n",
    "                p_bound=bound\n",
    "                value2 = BNB(X,Y,m-1,n,bound,cost,f_n,h_n)\n",
    "                if(value2 == p_bound):\n",
    "                    None\n",
    "                else:\n",
    "                    bound = value2\n",
    "                return bound\n",
    "                value3 = BNB(X,Y,m,n-1,bound,cost,f_n,h_n)\n",
    "                if(value3 == p_bound):\n",
    "                    None\n",
    "                else:\n",
    "                    bound = value3\n",
    "                \n",
    "            return bound\n",
    "                \n",
    "        else:\n",
    "            cost=cost+1\n",
    "            value1 = BNB(X,Y,m-1,n-1,bound,cost,f_n,h_n)\n",
    "            if(value1==None):\n",
    "                None\n",
    "            else:\n",
    "                bound=value1\n",
    "            \n",
    "            if(bound<cost):\n",
    "                return bound\n",
    "            \n",
    "            else:\n",
    "                p_bound=bound\n",
    "                value2 = BNB(X,Y,m-1,n,bound,cost,f_n,h_n)\n",
    "                if(value2 == p_bound):\n",
    "                    None\n",
    "                else:\n",
    "                    bound = value2\n",
    "                value3 = BNB(X,Y,m,n-1,bound,cost,f_n,h_n) \n",
    "                if(value3 == p_bound):\n",
    "                    None\n",
    "                else:\n",
    "                    bound = value3\n",
    "            return bound\n",
    "    \n",
    "            \n",
    "    else:\n",
    "         return bound"
   ]
  },
  {
   "cell_type": "code",
   "execution_count": 214,
   "metadata": {
    "collapsed": false
   },
   "outputs": [],
   "source": [
    "X=\"accommodation\"\n",
    "Y=\"anthromoporphization\"\n",
    "lenx=len(X)\n",
    "leny=len(Y)\n",
    "bound=99\n",
    "cost=0\n",
    "f_n=0\n",
    "h_n=0\n",
    "calls=0\n",
    "al=  [[0 for x in range(len(Y)+1)] for x in range(len(X)+1)]"
   ]
  },
  {
   "cell_type": "code",
   "execution_count": 212,
   "metadata": {
    "collapsed": false
   },
   "outputs": [
    {
     "name": "stdout",
     "output_type": "stream",
     "text": [
      "11\n",
      "Time taken for execution 0:00:00.019000 seconds\n",
      "NUMBER OF CALLS 13886\n"
     ]
    }
   ],
   "source": [
    "from datetime import datetime\n",
    "start_time = datetime.now()\n",
    "print (BNB(X,Y,lenx,leny,bound,cost,f_n,h_n))\n",
    "end_time = datetime.now()\n",
    "print \"Time taken for execution\",end_time - start_time, \"seconds\"\n",
    "print \"NUMBER OF CALLS\", calls"
   ]
  },
  {
   "cell_type": "code",
   "execution_count": 213,
   "metadata": {
    "collapsed": false
   },
   "outputs": [
    {
     "data": {
      "text/plain": [
       "deque([])"
      ]
     },
     "execution_count": 213,
     "metadata": {},
     "output_type": "execute_result"
    }
   ],
   "source": [
    "path"
   ]
  },
  {
   "cell_type": "code",
   "execution_count": null,
   "metadata": {
    "collapsed": false
   },
   "outputs": [],
   "source": []
  },
  {
   "cell_type": "code",
   "execution_count": 106,
   "metadata": {
    "collapsed": false
   },
   "outputs": [
    {
     "ename": "SyntaxError",
     "evalue": "invalid syntax (<ipython-input-106-e09783086a98>, line 4)",
     "output_type": "error",
     "traceback": [
      "\u001b[1;36m  File \u001b[1;32m\"<ipython-input-106-e09783086a98>\"\u001b[1;36m, line \u001b[1;32m4\u001b[0m\n\u001b[1;33m    print X[0]+' -> ' +Y[]\u001b[0m\n\u001b[1;37m                         ^\u001b[0m\n\u001b[1;31mSyntaxError\u001b[0m\u001b[1;31m:\u001b[0m invalid syntax\n"
     ]
    }
   ],
   "source": [
    "path.reverse()\n",
    "for i in range(max(X,Y)):\n",
    "    if i=='S':\n",
    "        print X[0]+' -> ' +Y[]"
   ]
  },
  {
   "cell_type": "code",
   "execution_count": null,
   "metadata": {
    "collapsed": true
   },
   "outputs": [],
   "source": []
  },
  {
   "cell_type": "code",
   "execution_count": null,
   "metadata": {
    "collapsed": true
   },
   "outputs": [],
   "source": []
  },
  {
   "cell_type": "code",
   "execution_count": null,
   "metadata": {
    "collapsed": false
   },
   "outputs": [],
   "source": [
    "list=['a','b']\n",
    "list"
   ]
  },
  {
   "cell_type": "code",
   "execution_count": null,
   "metadata": {
    "collapsed": false
   },
   "outputs": [],
   "source": [
    "list.append('c')\n",
    "list"
   ]
  },
  {
   "cell_type": "code",
   "execution_count": null,
   "metadata": {
    "collapsed": true
   },
   "outputs": [],
   "source": []
  }
 ],
 "metadata": {
  "anaconda-cloud": {},
  "kernelspec": {
   "display_name": "Python [Root]",
   "language": "python",
   "name": "Python [Root]"
  },
  "language_info": {
   "codemirror_mode": {
    "name": "ipython",
    "version": 2
   },
   "file_extension": ".py",
   "mimetype": "text/x-python",
   "name": "python",
   "nbconvert_exporter": "python",
   "pygments_lexer": "ipython2",
   "version": "2.7.11"
  }
 },
 "nbformat": 4,
 "nbformat_minor": 0
}
