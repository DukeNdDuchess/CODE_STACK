{
 "cells": [
  {
   "cell_type": "code",
   "execution_count": 2,
   "metadata": {
    "collapsed": false
   },
   "outputs": [],
   "source": [
    "def BNB(X,Y,m,n,bound,cost,f_n,h_n):\n",
    "    global calls\n",
    "    calls=calls+1\n",
    "    h_n=abs(m-n)\n",
    "    f_n = h_n + cost\n",
    "    \n",
    "    if (f_n < bound):\n",
    "        \n",
    "        if m==0:\n",
    "            cost=cost+n\n",
    "            if(cost < bound):\n",
    "                bound=cost\n",
    "                return bound\n",
    "            else:\n",
    "                return bound\n",
    "            \n",
    "        elif n==0:\n",
    "            cost=cost+m\n",
    "            if(cost<bound):\n",
    "                bound=cost\n",
    "                return bound\n",
    "            else:\n",
    "                return bound\n",
    "        \n",
    "        elif (X[m-1]==Y[n-1]):\n",
    "            cost=cost+0\n",
    "            value1 = BNB(X,Y,m-1,n-1,bound,cost,f_n,h_n)\n",
    "            if(value1==None):\n",
    "                None\n",
    "            else:\n",
    "                bound=value1\n",
    "            cost = cost + 1\n",
    "            if(bound<cost):\n",
    "                return bound\n",
    "            else:\n",
    "                p_bound=bound\n",
    "                value2 = BNB(X,Y,m-1,n,bound,cost,f_n,h_n)\n",
    "                if(value2 == p_bound):\n",
    "                    None\n",
    "                else:\n",
    "                    bound = value2\n",
    "                return bound\n",
    "                value3 = BNB(X,Y,m,n-1,bound,cost,f_n,h_n)\n",
    "                if(value3 == p_bound):\n",
    "                    None\n",
    "                else:\n",
    "                    bound = value3\n",
    "                \n",
    "            return bound\n",
    "                \n",
    "        else:\n",
    "            cost=cost+1\n",
    "            value1 = BNB(X,Y,m-1,n-1,bound,cost,f_n,h_n)\n",
    "            if(value1==None):\n",
    "                None\n",
    "            else:\n",
    "                bound=value1\n",
    "            \n",
    "            if(bound<cost):\n",
    "                return bound\n",
    "            \n",
    "            else:\n",
    "                p_bound=bound\n",
    "                value2 = BNB(X,Y,m-1,n,bound,cost,f_n,h_n)\n",
    "                if(value2 == p_bound):\n",
    "                    None\n",
    "                else:\n",
    "                    bound = value2\n",
    "                value3 = BNB(X,Y,m,n-1,bound,cost,f_n,h_n) \n",
    "                if(value3 == p_bound):\n",
    "                    None\n",
    "                else:\n",
    "                    bound = value3\n",
    "            return bound\n",
    "    \n",
    "            \n",
    "    else:\n",
    "         return bound"
   ]
  },
  {
   "cell_type": "code",
   "execution_count": 3,
   "metadata": {
    "collapsed": false
   },
   "outputs": [
    {
     "name": "stdout",
     "output_type": "stream",
     "text": [
      "The Edit Distance 11\n",
      "Time taken for execution 0:00:00.712000 seconds\n",
      "NUMBER OF RECURSIVE CALLS MADE :  280942\n"
     ]
    }
   ],
   "source": [
    "X=\"evapotranspiration\"\n",
    "Y=\"mechanoreception\"\n",
    "lenx=len(X)\n",
    "leny=len(Y)\n",
    "bound=99\n",
    "cost=0\n",
    "f_n=0\n",
    "h_n=0\n",
    "calls=0\n",
    "\n",
    "from datetime import datetime\n",
    "start_time = datetime.now()\n",
    "print \"The Edit Distance\" ,(BNB(X,Y,lenx,leny,bound,cost,f_n,h_n))\n",
    "end_time = datetime.now()\n",
    "print \"Time taken for execution\",end_time - start_time, \"seconds\"\n",
    "print \"NUMBER OF RECURSIVE CALLS MADE : \", calls"
   ]
  },
  {
   "cell_type": "code",
   "execution_count": null,
   "metadata": {
    "collapsed": true
   },
   "outputs": [],
   "source": []
  }
 ],
 "metadata": {
  "kernelspec": {
   "display_name": "Python [Root]",
   "language": "python",
   "name": "Python [Root]"
  },
  "language_info": {
   "codemirror_mode": {
    "name": "ipython",
    "version": 2
   },
   "file_extension": ".py",
   "mimetype": "text/x-python",
   "name": "python",
   "nbconvert_exporter": "python",
   "pygments_lexer": "ipython2",
   "version": "2.7.11"
  }
 },
 "nbformat": 4,
 "nbformat_minor": 0
}
