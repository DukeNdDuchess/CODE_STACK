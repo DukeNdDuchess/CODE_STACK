{
 "cells": [
  {
   "cell_type": "code",
   "execution_count": 2,
   "metadata": {
    "collapsed": true
   },
   "outputs": [],
   "source": [
    "import numpy as np"
   ]
  },
  {
   "cell_type": "markdown",
   "metadata": {},
   "source": [
    "# RECORDING THE ALIGNMENT MATRIX"
   ]
  },
  {
   "cell_type": "code",
   "execution_count": 3,
   "metadata": {
    "collapsed": true
   },
   "outputs": [],
   "source": [
    "def editDistDP(str1, str2, m, n):\n",
    "    \n",
    "    \n",
    "    for i in range(m+1):\n",
    "        for j in range(n+1):\n",
    "       \n",
    "            if (i==0 and j==0):\n",
    "                al[i][j]=\"N\"\n",
    "   \n",
    "            elif (i == 0):\n",
    "                dp[i][j] = j\n",
    "                al[i][j] = \"I\"\n",
    "           \n",
    "            elif (j == 0):\n",
    "                dp[i][j] = i    \n",
    "                al[i][j] = \"D\"\n",
    "                \n",
    "            elif (str1[i-1]==str2[j-1]):\n",
    "                \n",
    "                \n",
    "                inse=dp[i][j-1]+1\n",
    "                dele=dp[i-1][j]+1\n",
    "                subs=dp[i-1][j-1]\n",
    "                \n",
    "                key_values={'insert':inse,'delete':dele,'subs':subs}\n",
    "                \n",
    "                dp[i][j]=min(inse,dele,subs)\n",
    "                ops=''\n",
    "                ops=next(key for key, value in key_values.iteritems() if value == dp[i][j])\n",
    "                \n",
    "                if(ops=='insert'):\n",
    "                    al[i][j]='I'\n",
    "                elif(ops=='delete'):\n",
    "                    al[i][j]='D'\n",
    "                else:\n",
    "                    al[i][j]='S'\n",
    "                 \n",
    "            else:\n",
    "                inse=dp[i][j-1]+1\n",
    "                dele=dp[i-1][j]+1\n",
    "                subs=dp[i-1][j-1]+1\n",
    "                \n",
    "                key_values={'insert':inse,'delete':dele,'subs':subs}\n",
    "                \n",
    "                dp[i][j]=min(inse,dele,subs)    \n",
    "                ops=''\n",
    "                ops=next(key for key, value in key_values.iteritems() if value == dp[i][j])\n",
    "                \n",
    "                if(ops=='insert'):\n",
    "                    al[i][j]='I'\n",
    "                elif(ops=='delete'):\n",
    "                    al[i][j]='D'\n",
    "                else:\n",
    "                    al[i][j]='S'\n",
    " \n",
    "    return dp[i][j]"
   ]
  },
  {
   "cell_type": "markdown",
   "metadata": {},
   "source": [
    "# FUNCTION FOR PRINTING THE ALIGNMENT"
   ]
  },
  {
   "cell_type": "code",
   "execution_count": 4,
   "metadata": {
    "collapsed": true
   },
   "outputs": [],
   "source": [
    "def printAL(mat,str1,str2,m,n):\n",
    "    \n",
    "    if(m==0 and n==0):\n",
    "        return\n",
    "    \n",
    "    elif(m==0):\n",
    "        printAL(mat,str1,str2,m,n-1)\n",
    "        print( \"+\" + \" ---> \" + str2[n-1])\n",
    "        \n",
    "    elif(n==0):\n",
    "        printAL(mat,str1,str2,m-1,n)\n",
    "        print (str1[m-1]+\" <--- \"+ \"_\")\n",
    "\n",
    "    elif (mat[m][n]==\"S\"):\n",
    "        \n",
    "        printAL(mat,str1,str2,m-1,n-1)\n",
    "        print (str1[m-1] +\" <--> \"+str2[n-1])\n",
    "        \n",
    "    elif(mat[m][n]==\"I\"):\n",
    "        \n",
    "        printAL(mat,str1,str2,m,n-1)\n",
    "        print (\"+\" +\" ---> \"+ str2[n-1])\n",
    "        \n",
    "    else:\n",
    "        \n",
    "        printAL(mat,str1,str2,m-1,n)\n",
    "        print (str1[m-1]+\" <--- \"+ \"_\")"
   ]
  },
  {
   "cell_type": "code",
   "execution_count": null,
   "metadata": {
    "collapsed": true
   },
   "outputs": [],
   "source": []
  },
  {
   "cell_type": "code",
   "execution_count": 15,
   "metadata": {
    "collapsed": false
   },
   "outputs": [
    {
     "name": "stdout",
     "output_type": "stream",
     "text": [
      "13 9\n",
      "EDIT DISTANCE : 12\n",
      "Time taken for execution 0:00:00.002000 seconds\n"
     ]
    }
   ],
   "source": [
    "str1=\"accommodation\"\n",
    "str2=\"intersect\"\n",
    "\n",
    "print len(str1),len(str2)\n",
    "\n",
    "dp = [[0 for x in range(len(str2)+1)] for x in range(len(str1)+1)]\n",
    "al=  [[0 for x in range(len(str2)+1)] for x in range(len(str1)+1)]\n",
    "from datetime import datetime\n",
    "start_time = datetime.now()\n",
    "print(\"EDIT DISTANCE : \"+ str(editDistDP(str1, str2, len(str1), len(str2))))\n",
    "end_time = datetime.now()\n",
    "print \"Time taken for execution\",end_time - start_time, \"seconds\""
   ]
  },
  {
   "cell_type": "code",
   "execution_count": 16,
   "metadata": {
    "collapsed": false,
    "scrolled": true
   },
   "outputs": [
    {
     "name": "stdout",
     "output_type": "stream",
     "text": [
      "[[ 0  1  2  3  4  5  6  7  8  9]\n",
      " [ 1  1  2  3  4  5  6  7  8  9]\n",
      " [ 2  2  2  3  4  5  6  7  7  8]\n",
      " [ 3  3  3  3  4  5  6  7  7  8]\n",
      " [ 4  4  4  4  4  5  6  7  8  8]\n",
      " [ 5  5  5  5  5  5  6  7  8  9]\n",
      " [ 6  6  6  6  6  6  6  7  8  9]\n",
      " [ 7  7  7  7  7  7  7  7  8  9]\n",
      " [ 8  8  8  8  8  8  8  8  8  9]\n",
      " [ 9  9  9  9  9  9  9  9  9  9]\n",
      " [10 10 10  9 10 10 10 10 10  9]\n",
      " [11 10 11 10 10 11 11 11 11 10]\n",
      " [12 11 11 11 11 11 12 12 12 11]\n",
      " [13 12 11 12 12 12 12 13 13 12]]\n"
     ]
    }
   ],
   "source": [
    "print np.matrix(dp)"
   ]
  },
  {
   "cell_type": "code",
   "execution_count": 17,
   "metadata": {
    "collapsed": false
   },
   "outputs": [
    {
     "name": "stdout",
     "output_type": "stream",
     "text": [
      "[['N' 'I' 'I' 'I' 'I' 'I' 'I' 'I' 'I' 'I']\n",
      " ['D' 'S' 'I' 'I' 'I' 'I' 'I' 'I' 'I' 'I']\n",
      " ['D' 'S' 'S' 'I' 'I' 'I' 'I' 'I' 'S' 'I']\n",
      " ['D' 'S' 'S' 'S' 'I' 'I' 'I' 'I' 'S' 'I']\n",
      " ['D' 'S' 'S' 'S' 'S' 'I' 'I' 'I' 'I' 'S']\n",
      " ['D' 'S' 'S' 'S' 'S' 'S' 'I' 'I' 'I' 'I']\n",
      " ['D' 'S' 'S' 'S' 'S' 'S' 'S' 'I' 'I' 'I']\n",
      " ['D' 'S' 'S' 'S' 'S' 'S' 'S' 'S' 'I' 'I']\n",
      " ['D' 'S' 'S' 'S' 'S' 'S' 'S' 'S' 'S' 'I']\n",
      " ['D' 'S' 'S' 'S' 'S' 'S' 'S' 'S' 'S' 'S']\n",
      " ['D' 'S' 'S' 'S' 'I' 'S' 'S' 'S' 'S' 'S']\n",
      " ['D' 'S' 'I' 'D' 'S' 'I' 'S' 'S' 'S' 'D']\n",
      " ['D' 'D' 'S' 'D' 'S' 'S' 'I' 'S' 'S' 'D']\n",
      " ['D' 'D' 'S' 'I' 'S' 'S' 'S' 'I' 'S' 'D']]\n"
     ]
    }
   ],
   "source": [
    "print np.matrix(al)"
   ]
  },
  {
   "cell_type": "code",
   "execution_count": 18,
   "metadata": {
    "collapsed": false,
    "scrolled": true
   },
   "outputs": [
    {
     "name": "stdout",
     "output_type": "stream",
     "text": [
      "a <--- _\n",
      "c <--> i\n",
      "c <--> n\n",
      "o <--> t\n",
      "m <--> e\n",
      "m <--> r\n",
      "o <--> s\n",
      "d <--> e\n",
      "a <--> c\n",
      "t <--> t\n",
      "i <--- _\n",
      "o <--- _\n",
      "n <--- _\n",
      "None\n"
     ]
    }
   ],
   "source": [
    "m=len(str1)\n",
    "n=len(str2)\n",
    "print (printAL(al,str1,str2,m,n))"
   ]
  },
  {
   "cell_type": "code",
   "execution_count": null,
   "metadata": {
    "collapsed": true
   },
   "outputs": [],
   "source": []
  }
 ],
 "metadata": {
  "anaconda-cloud": {},
  "kernelspec": {
   "display_name": "Python 2",
   "language": "python",
   "name": "python2"
  },
  "language_info": {
   "codemirror_mode": {
    "name": "ipython",
    "version": 2
   },
   "file_extension": ".py",
   "mimetype": "text/x-python",
   "name": "python",
   "nbconvert_exporter": "python",
   "pygments_lexer": "ipython2",
   "version": "2.7.13"
  }
 },
 "nbformat": 4,
 "nbformat_minor": 1
}
