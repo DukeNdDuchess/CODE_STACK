{
 "cells": [
  {
   "cell_type": "code",
   "execution_count": 32,
   "metadata": {
    "collapsed": false
   },
   "outputs": [
    {
     "name": "stdout",
     "output_type": "stream",
     "text": [
      "\n"
     ]
    }
   ],
   "source": [
    "def greedyED(X,Y,m,n,Edist):\n",
    "    str1=''\n",
    "    str2=''\n",
    "    Edist = 0\n",
    "    while(m>=0):\n",
    "        \n",
    "        if(m<2 and n<2):\n",
    "            str1=''\n",
    "            str2=''\n",
    "            str_X=X[:m]\n",
    "            str_Y=Y[:n]\n",
    "            len_X=len(str_X)\n",
    "            len_Y=len(str_Y)\n",
    "            Edist=ED(str_X,str_Y,m,n,al) + Edist\n",
    "            m=-1\n",
    "            \n",
    "        elif(m<2):\n",
    "            str1=''\n",
    "            str2=''\n",
    "            str_X=X[:m]\n",
    "            str_Y=Y[:n]\n",
    "            len_X=len(str_X)\n",
    "            len_Y=len(str_Y)\n",
    "            Edist=ED(str_X,str_Y,len_X,len_Y,al) + Edist\n",
    "            m=-1\n",
    "            \n",
    "        elif(n<2):\n",
    "            str1=''\n",
    "            str2=''\n",
    "            str_X=X[:m]\n",
    "            str_Y=Y[:n]\n",
    "            len_X=len(str_X)\n",
    "            len_Y=len(str_Y)\n",
    "            Edist=ED(str_X,str_Y,len_X,len_Y,al) + Edist\n",
    "            m=-1\n",
    "        \n",
    "        else:\n",
    "            str1=''\n",
    "            str2=''\n",
    "            str_X=X[m-2:m]\n",
    "            str_Y=Y[n-2:n]\n",
    "            len_X=len(str_X)\n",
    "            len_Y=len(str_Y)\n",
    "            Edist=ED(str_X,str_Y,len_X,len_Y,al) + Edist\n",
    "            m=m-2\n",
    "            n=n-2\n",
    "            \n",
    "    return  Edist "
   ]
  },
  {
   "cell_type": "code",
   "execution_count": 33,
   "metadata": {
    "collapsed": false
   },
   "outputs": [
    {
     "name": "stdout",
     "output_type": "stream",
     "text": [
      "Edit Distance :  14\n"
     ]
    }
   ],
   "source": [
    "X=\"evapotranspiration\"\n",
    "Y=\"mechanoreception\"\n",
    "m=len(X)\n",
    "n=len(Y)\n",
    "print\"Edit Distance : \",(greedyED(X,Y,m,n,Edist=0))"
   ]
  },
  {
   "cell_type": "code",
   "execution_count": null,
   "metadata": {
    "collapsed": true
   },
   "outputs": [],
   "source": []
  },
  {
   "cell_type": "code",
   "execution_count": 26,
   "metadata": {
    "collapsed": false
   },
   "outputs": [
    {
     "name": "stdout",
     "output_type": "stream",
     "text": [
      "\n"
     ]
    }
   ],
   "source": [
    "def alignment(str1,str2,m,n,al):   \n",
    "    aln_X = \"\" \n",
    "    aln_Y = \"\"\n",
    "    while (m>0 or n>0):\n",
    "    \n",
    "        if(m>0 and n>0 and al[m][n]=='S'):\n",
    "            aln_X = aln_X + str1[m-1]\n",
    "            aln_Y = aln_Y + str2[n-1]\n",
    "            m = m-1\n",
    "            n = n-1\n",
    "        \n",
    "        \n",
    "        elif (m>0 and al[m][n] == 'D'):\n",
    "            aln_X = aln_X + str1[m-1]\n",
    "            aln_Y = aln_Y + '-'\n",
    "            m = m-1\n",
    "        \n",
    "        else:\n",
    "            aln_X = aln_X + '-'\n",
    "            aln_Y = aln_Y + str2[n-1]\n",
    "            n = n-1\n",
    "\n",
    "    l1 = aln_X[::-1]\n",
    "    l2 = aln_Y[::-1]            \n",
    "        \n",
    "    return l1,l2"
   ]
  },
  {
   "cell_type": "code",
   "execution_count": 27,
   "metadata": {
    "collapsed": true
   },
   "outputs": [],
   "source": [
    "count=0\n",
    "ops=''\n",
    "def ED(x,y,m,n,al):\n",
    "\n",
    "    global count\n",
    "    count =count+1\n",
    "    \n",
    "    if m==0 and n==0:\n",
    "        if al[m][n]==0:\n",
    "            al[m][n]='N'\n",
    "        return 0\n",
    "    \n",
    "    elif m==0:\n",
    "        if al[m][n]==0:\n",
    "            al[m][n]='I'\n",
    "        return n\n",
    "    \n",
    "    elif n==0:\n",
    "        if al[m][n]==0:\n",
    "            al[m][n]='D'\n",
    "        return m\n",
    "    \n",
    "    elif x[m-1]==y[n-1]:\n",
    "        \n",
    "        substitution = ED(x,y,m-1,n-1,al)\n",
    "        deletion = (ED(x,y,m-1,n,al) + 1)\n",
    "        insertion = (ED(x,y,m,n-1,al) + 1)\n",
    "        key_values={'insert':insertion,'delete':deletion,'subs':substitution}\n",
    "        \n",
    "        minimum = min((substitution),(deletion),(insertion))\n",
    "        \n",
    "        ops=''\n",
    "        \n",
    "        try:\n",
    "            ops=next(key for key, value in key_values.iteritems() if value == minimum)\n",
    "        except:\n",
    "            None\n",
    "        \n",
    "        if al[m][n]!=0:\n",
    "            None\n",
    "        else:\n",
    "            if (ops =='insert'):         \n",
    "                al[m][n]='I'\n",
    "            elif (ops == 'delete'):\n",
    "                al[m][n]='D'\n",
    "            else:\n",
    "                al[m][n]='S'\n",
    "    else:\n",
    "        substitution = (ED(x,y,m-1,n-1,al) +1)\n",
    "        deletion =  (ED(x,y,m-1,n,al) +1)\n",
    "        insertion = (ED(x,y,m,n-1,al) +1)\n",
    "        \n",
    "        \n",
    "        key_values={'insert':insertion,'delete':deletion,'subs':substitution}\n",
    "        minimum = min((substitution),(deletion),(insertion))\n",
    "        \n",
    "        ops=''\n",
    "        \n",
    "        try:\n",
    "            ops=next(key for key, value in key_values.iteritems() if value == minimum)\n",
    "        except:\n",
    "            None\n",
    "            \n",
    "        if al[m][n]!=0:\n",
    "            None\n",
    "        else:\n",
    "            if (ops =='insert'):         \n",
    "                al[m][n]='I'\n",
    "            elif (ops == 'delete'):\n",
    "                al[m][n]='D'\n",
    "            else:\n",
    "                al[m][n]='S'\n",
    "        \n",
    "    return minimum"
   ]
  },
  {
   "cell_type": "code",
   "execution_count": 17,
   "metadata": {
    "collapsed": false,
    "scrolled": false
   },
   "outputs": [
    {
     "data": {
      "text/plain": [
       "[['N', 'I', 'I', 'I', 'I', 'I', 'I'],\n",
       " ['D', 'S', 'I', 'I', 'I', 'I', 'I'],\n",
       " ['D', 'S', 'S', 'S', 'I', 'I', 'I'],\n",
       " ['D', 'S', 'S', 'S', 'S', 'I', 'I'],\n",
       " ['D', 'S', 'S', 'S', 'S', 'S', 'I'],\n",
       " ['D', 'S', 'S', 'S', 'S', 'S', 'S']]"
      ]
     },
     "execution_count": 17,
     "metadata": {},
     "output_type": "execute_result"
    }
   ],
   "source": [
    "a='hello'\n",
    "b='sierra'\n",
    "al=[[0 for row in range(len(b)+1)] for col in range(len(a)+1)]\n",
    "ED(a,b,len(a),len(b),al)\n",
    "al"
   ]
  },
  {
   "cell_type": "code",
   "execution_count": 4,
   "metadata": {
    "collapsed": false
   },
   "outputs": [
    {
     "name": "stdout",
     "output_type": "stream",
     "text": [
      "\n"
     ]
    }
   ],
   "source": [
    "count=0\n",
    "def ED(x,y,m,n):\n",
    "    global count\n",
    "    count =count+1\n",
    "    if m==0:\n",
    "        return n\n",
    "    if n==0:\n",
    "        return m\n",
    "    if x[m-1]==y[n-1]:\n",
    "        \n",
    "        return min((ED(x,y,m-1,n-1)), (ED(x,y,m-1,n)+1), (ED(x,y,m,n-1)+1))\n",
    "\n",
    "    else:\n",
    "        return min((ED(x,y,m-1,n-1)+1), (ED(x,y,m-1,n)+1), (ED(x,y,m,n-1)+1))"
   ]
  },
  {
   "cell_type": "code",
   "execution_count": 126,
   "metadata": {
    "collapsed": false
   },
   "outputs": [
    {
     "name": "stdout",
     "output_type": "stream",
     "text": [
      "Edit Distance :  14\n"
     ]
    }
   ],
   "source": [
    "X=\"evapotranspiration\"\n",
    "Y=\"mechanoreception\"\n",
    "m=len(X)\n",
    "n=len(Y)\n",
    "print\"Edit Distance : \",(greedyED(X,Y,m,n,Edist=0))"
   ]
  },
  {
   "cell_type": "code",
   "execution_count": null,
   "metadata": {
    "collapsed": false
   },
   "outputs": [],
   "source": []
  },
  {
   "cell_type": "code",
   "execution_count": null,
   "metadata": {
    "collapsed": false
   },
   "outputs": [],
   "source": [
    "def stringBalance(str1,str2,m,n):\n",
    "    \n",
    "    if(len(str1)<len(str2)):\n",
    "        for i in range(0,len(str2)-len(str1)):\n",
    "            str1+=\"_\"\n",
    "    else:\n",
    "        for i in range(0,len(str1)-len(str2)):\n",
    "            str2+=\"_\"\n",
    "    return str1,str2"
   ]
  },
  {
   "cell_type": "code",
   "execution_count": null,
   "metadata": {
    "collapsed": false
   },
   "outputs": [],
   "source": [
    "strA=\"permission\"\n",
    "strB=\"interdiion\"\n",
    "A,B= stringBalance(strA,strB,len(strA),len(strB))\n",
    "A=str(A)\n",
    "B=str(B)\n",
    "cost=greedyED(A,B,len(A),len(B),0)\n",
    "cost"
   ]
  },
  {
   "cell_type": "code",
   "execution_count": 36,
   "metadata": {
    "collapsed": false
   },
   "outputs": [
    {
     "data": {
      "text/plain": [
       "'abvdfsgk'"
      ]
     },
     "execution_count": 36,
     "metadata": {},
     "output_type": "execute_result"
    }
   ],
   "source": [
    "a='abvdfsgk'\n",
    "a[:len(a)]"
   ]
  },
  {
   "cell_type": "code",
   "execution_count": null,
   "metadata": {
    "collapsed": false
   },
   "outputs": [],
   "source": [
    "a=1\n",
    "b=3\n",
    "c=4"
   ]
  },
  {
   "cell_type": "code",
   "execution_count": 105,
   "metadata": {
    "collapsed": false
   },
   "outputs": [],
   "source": [
    "test=[[0 for row in range(8)] for col in range(0)]"
   ]
  },
  {
   "cell_type": "code",
   "execution_count": 106,
   "metadata": {
    "collapsed": false
   },
   "outputs": [
    {
     "data": {
      "text/plain": [
       "[]"
      ]
     },
     "execution_count": 106,
     "metadata": {},
     "output_type": "execute_result"
    }
   ],
   "source": [
    "test"
   ]
  },
  {
   "cell_type": "code",
   "execution_count": null,
   "metadata": {
    "collapsed": true
   },
   "outputs": [],
   "source": []
  }
 ],
 "metadata": {
  "anaconda-cloud": {},
  "kernelspec": {
   "display_name": "Python [Root]",
   "language": "python",
   "name": "Python [Root]"
  },
  "language_info": {
   "codemirror_mode": {
    "name": "ipython",
    "version": 2
   },
   "file_extension": ".py",
   "mimetype": "text/x-python",
   "name": "python",
   "nbconvert_exporter": "python",
   "pygments_lexer": "ipython2",
   "version": "2.7.11"
  }
 },
 "nbformat": 4,
 "nbformat_minor": 0
}
